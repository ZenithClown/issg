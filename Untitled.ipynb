{
 "cells": [
  {
   "cell_type": "markdown",
   "metadata": {},
   "source": [
    "<h1 align = \"center\">Aqueduct Floods Hazard Maps</h1>\n",
    "\n",
    "---\n",
    "\n",
    "Data is available at [this link](http://wri-projects.s3.amazonaws.com/AqueductFloodTool/download/v2/index.html) - under anchor tabs `<a>...</a>`. Now, from the problem statement and URL - each data is available as a `pickle` format or as a `tif` file. Now, considering `python`, I've loaded the data which are pickled. This is done using **web-scrapping** of the given URL, and fetching all the attributes. If the URL is of pickled data, then data is parsed.\n",
    "\n",
    "Steps I've followed:\n",
    "* Fetch the URLs from the URL, and hyper-link attributes are fetched using **`utilities.getContent()`** - a user defined function created for this purpose! (check file for more information)\n",
    "* Once all the links is available, a sample data is printed into the notebook, and I can conclude the following:\n",
    "  - data is of type `dict`\n",
    "  - nested dictionary is present\n",
    "* So, looking at the data, I have used two for-loops - one if there is a nested dictionary, to append the data as a list. Given this, the `dictionary` can either be converted into a `pd.DataFrame` or, necessary data can be first seperated, and then converted."
   ]
  },
  {
   "cell_type": "code",
   "execution_count": 48,
   "metadata": {
    "ExecuteTime": {
     "end_time": "2021-05-07T05:32:05.719550Z",
     "start_time": "2021-05-07T05:32:05.447574Z"
    }
   },
   "outputs": [],
   "source": [
    "import json\n",
    "import pickle\n",
    "import urllib.request\n",
    "from tqdm import tqdm as TQ\n",
    "from utilities import getContent # custom file, please keep the file in PYTHON_ENV or same directory"
   ]
  },
  {
   "cell_type": "code",
   "execution_count": 2,
   "metadata": {
    "ExecuteTime": {
     "end_time": "2021-05-07T04:59:58.896213Z",
     "start_time": "2021-05-07T04:59:56.727630Z"
    }
   },
   "outputs": [],
   "source": [
    "url = \"http://wri-projects.s3.amazonaws.com/AqueductFloodTool/download/v2/index.html\"\n",
    "dataLinks = getContent(url)"
   ]
  },
  {
   "cell_type": "markdown",
   "metadata": {},
   "source": [
    "A sample data - to understand how the data looks!"
   ]
  },
  {
   "cell_type": "code",
   "execution_count": 13,
   "metadata": {
    "ExecuteTime": {
     "end_time": "2021-05-07T05:05:29.157371Z",
     "start_time": "2021-05-07T05:05:28.232759Z"
    },
    "scrolled": true
   },
   "outputs": [
    {
     "data": {
      "text/plain": [
       "{'properties_from_filename': {'subsidence': 'nosub',\n",
       "  'returnperiod': 'rp0001',\n",
       "  'year': 'hist',\n",
       "  'climate': 'historical',\n",
       "  'returnperiod_decimal': '5',\n",
       "  'floodtype': 'inuncoast'},\n",
       " 'root': '/volumes/data/Y2018M08D08_RH_S3_EC2_V01/output_V02/coastal/inun_subsidence_v2_95/HIST',\n",
       " 'variable_attributes': {'inun_units': 'm',\n",
       "  'inun_comment': 'water_surface_reference_datum_altitude is given in file /p/1209884-aqueduct/Datasets/MERIT_1km/MERIT_glob_1km_waterp50Mask.tif',\n",
       "  'inun__FillValue': -9999.0,\n",
       "  'inun_long_name': 'Coastal flooding',\n",
       "  'inun_coordinates': 'lat lon',\n",
       "  'inun_standard_name': 'water_surface_height_above_reference_datum'},\n",
       " 'global_attributes': {'title': 'Aqueduct Coastal hazard layer',\n",
       "  'references': 'http://floods.wri.org/',\n",
       "  'project': 'Aqueduct Global Flood Analyzer',\n",
       "  'config_file': '/p/1209884-aqueduct/Coastal_inun/settings_h6/coastal_inun.ini',\n",
       "  'Conventions': 'CF-1.6',\n",
       "  'history': 'Created by: $Id: coastal_inun.py 219 2017-11-13 11:12:22Z eilan_dk $,\\n                                            boundary conditions from /p/1209884-aqueduct/Coastal_inun/input/surge/evds_erainterim_IBTrACS_tide_surge.nc,\\nhistory: Created by: $Id: yearly_max2evs.py 234 2015-11-12 16:13:58Z winsemi $, $HeadURL: https://repos.deltares.nl/repos/global_tide_surge_model/trunk/python_scripts/yearly_max2evs.py $\\nMon Nov 23 13:38:02 2015: cdo yearmax /p/1209884-aqueduct/Coastal_risk/tropical_surge_all_max.nc /p/1209884-aqueduct/Coastal_risk/yearly_surge_max.nc\\nThu Nov 19 11:23:31 2015: cdo mergetime /p/1209884-aqueduct/Coastal_risk/tropical_surge_max_0000.nc /p/1209884-aqueduct/Coastal_risk/tropical_surge_max_0001.nc /p/1209884-aqueduct/Coastal_risk/tropical_surge_max_0002.nc /p/1209884-aqueduct/Coastal_risk/tropical_surge_max_0003.nc /p/1209884-aqueduct/Coastal_risk/tropical_surge_max_0004.nc /p/1209884-aqueduct/Coastal_risk/tropical_surge_max_0005.nc /p/1209884-aqueduct/Coastal_risk/tropical_surge_max_0006.nc /p/1209884-aqueduct/Coastal_risk/tropical_surge_max_0007.nc /p/1209884-aqueduct/Coastal_risk/tropical_surge_max_0008.nc /p/1209884-aqueduct/Coastal_risk/tropical_surge_max_0009.nc /p/1209884-aqueduct/Coastal_risk/tropical_surge_max_0010.nc /p/1209884-aqueduct/Coastal_risk/tropical_surge_max_0011.nc /p/1209884-aqueduct/Coastal_risk/tropical_surge_max_0012.nc /p/1209884-aqueduct/Coastal_risk/tropical_surge_max_0013.nc /p/1209884-aqueduct/Coastal_risk/tropical_surge_max_0014.nc /p/1209884-aqueduct/Coastal_risk/tropical_surge_max_0015.nc\\nThu Nov 19 11:23:27 2015: cdo mergetime /p/1209884-aqueduct/Coastal_risk/reanalysis_runs_cyclone_extremes/model_input_BasinEP_HURD_1998288N11268_LESTER_Ibtracks_v03r06_maximum.nc /p/1209884-aqueduct/Coastal_risk/reanalysis_runs_cyclone_extremes/model_input_BasinNA_HURD_2001227N13323_CHANTAL_Ibtracks_v03r06_maximum.nc /p/1209884-aqueduct/Coastal_risk/reanalysis_runs_cyclone_extremes/model_input_BasinNA_HURD_2002288N17277_UNNAMED_Ibtracks_v03r06_maximum.nc /p/1209884-aqueduct/Coastal_risk/reanalysis_runs_cyclone_extremes/model_input_BasinEP_HURD_2008204N13260_GENEVIEVE_Ibtracks_v03r06_maximum.nc /p/1209884-aqueduct/Coastal_risk/reanalysis_runs_cyclone_extremes/model_input_BasinNA_HURD_1985197N29296_ANA_Ibtracks_v03r06_maximum.nc /p/1209884-aqueduct/Coastal_risk/reanalysis_runs_cyclone_extremes/model_input_BasinNA_HURD_2009279N15311_HENRI_Ibtracks_v03r06_maximum.nc /p/1209884-aqueduct/Coastal_risk/reanalysis_runs_cyclone_extremes/model_input_BasinEP_HURD_1987159N12264_ADRIAN_Ibtracks_v03r06_maximum.nc\\nCreated by: $Id: tropical_fes_storm_max.py 236 2015-11-16 12:46:20Z winsemi $, $HeadURL: https://repos.deltares.nl/repos/global_tide_surge_model/trunk/python_scripts/tropical_fes_storm_max.py $\\nCreated by fes2netcdf program to generate timeseries from FES2012 database\\nCreated on 2015-07-25T00:37:01+0200, D-Flow FM',\n",
       "  'source': 'Global Tide and Surge Model',\n",
       "  'institution': 'Deltares'},\n",
       " 'filename': 'inuncoast_historical_nosub_hist_rp0001_5.nc'}"
      ]
     },
     "execution_count": 13,
     "metadata": {},
     "output_type": "execute_result"
    }
   ],
   "source": [
    "sample = pickle.load(urllib.request.urlopen(\"http://wri-projects.s3.amazonaws.com/AqueductFloodTool/download/v2/inuncoast_historical_nosub_hist_rp0001_5.pickle\"))\n",
    "sample"
   ]
  },
  {
   "cell_type": "code",
   "execution_count": 29,
   "metadata": {
    "ExecuteTime": {
     "end_time": "2021-05-07T05:12:59.342337Z",
     "start_time": "2021-05-07T05:12:59.336337Z"
    }
   },
   "outputs": [
    {
     "name": "stdout",
     "output_type": "stream",
     "text": [
      "{\n",
      "    \"properties_from_filename\": {\n",
      "        \"subsidence\": \"nosub\",\n",
      "        \"returnperiod\": \"rp0001\",\n",
      "        \"year\": \"hist\",\n",
      "        \"climate\": \"historical\",\n",
      "        \"returnperiod_decimal\": \"5\",\n",
      "        \"floodtype\": \"inuncoast\"\n",
      "    },\n",
      "    \"root\": \"/volumes/data/Y2018M08D08_RH_S3_EC2_V01/output_V02/coastal/inun_subsidence_v2_95/HIST\",\n",
      "    \"variable_attributes\": {\n",
      "        \"inun_units\": \"m\",\n",
      "        \"inun_comment\": \"water_surface_reference_datum_altitude is given in file /p/1209884-aqueduct/Datasets/MERIT_1km/MERIT_glob_1km_waterp50Mask.tif\",\n",
      "        \"inun__FillValue\": \"-9999.0\",\n",
      "        \"inun_long_name\": \"Coastal flooding\",\n",
      "        \"inun_coordinates\": \"lat lon\",\n",
      "        \"inun_standard_name\": \"water_surface_height_above_reference_datum\"\n",
      "    },\n",
      "    \"global_attributes\": {\n",
      "        \"title\": \"Aqueduct Coastal hazard layer\",\n",
      "        \"references\": \"http://floods.wri.org/\",\n",
      "        \"project\": \"Aqueduct Global Flood Analyzer\",\n",
      "        \"config_file\": \"/p/1209884-aqueduct/Coastal_inun/settings_h6/coastal_inun.ini\",\n",
      "        \"Conventions\": \"CF-1.6\",\n",
      "        \"history\": \"Created by: $Id: coastal_inun.py 219 2017-11-13 11:12:22Z eilan_dk $,\\n                                            boundary conditions from /p/1209884-aqueduct/Coastal_inun/input/surge/evds_erainterim_IBTrACS_tide_surge.nc,\\nhistory: Created by: $Id: yearly_max2evs.py 234 2015-11-12 16:13:58Z winsemi $, $HeadURL: https://repos.deltares.nl/repos/global_tide_surge_model/trunk/python_scripts/yearly_max2evs.py $\\nMon Nov 23 13:38:02 2015: cdo yearmax /p/1209884-aqueduct/Coastal_risk/tropical_surge_all_max.nc /p/1209884-aqueduct/Coastal_risk/yearly_surge_max.nc\\nThu Nov 19 11:23:31 2015: cdo mergetime /p/1209884-aqueduct/Coastal_risk/tropical_surge_max_0000.nc /p/1209884-aqueduct/Coastal_risk/tropical_surge_max_0001.nc /p/1209884-aqueduct/Coastal_risk/tropical_surge_max_0002.nc /p/1209884-aqueduct/Coastal_risk/tropical_surge_max_0003.nc /p/1209884-aqueduct/Coastal_risk/tropical_surge_max_0004.nc /p/1209884-aqueduct/Coastal_risk/tropical_surge_max_0005.nc /p/1209884-aqueduct/Coastal_risk/tropical_surge_max_0006.nc /p/1209884-aqueduct/Coastal_risk/tropical_surge_max_0007.nc /p/1209884-aqueduct/Coastal_risk/tropical_surge_max_0008.nc /p/1209884-aqueduct/Coastal_risk/tropical_surge_max_0009.nc /p/1209884-aqueduct/Coastal_risk/tropical_surge_max_0010.nc /p/1209884-aqueduct/Coastal_risk/tropical_surge_max_0011.nc /p/1209884-aqueduct/Coastal_risk/tropical_surge_max_0012.nc /p/1209884-aqueduct/Coastal_risk/tropical_surge_max_0013.nc /p/1209884-aqueduct/Coastal_risk/tropical_surge_max_0014.nc /p/1209884-aqueduct/Coastal_risk/tropical_surge_max_0015.nc\\nThu Nov 19 11:23:27 2015: cdo mergetime /p/1209884-aqueduct/Coastal_risk/reanalysis_runs_cyclone_extremes/model_input_BasinEP_HURD_1998288N11268_LESTER_Ibtracks_v03r06_maximum.nc /p/1209884-aqueduct/Coastal_risk/reanalysis_runs_cyclone_extremes/model_input_BasinNA_HURD_2001227N13323_CHANTAL_Ibtracks_v03r06_maximum.nc /p/1209884-aqueduct/Coastal_risk/reanalysis_runs_cyclone_extremes/model_input_BasinNA_HURD_2002288N17277_UNNAMED_Ibtracks_v03r06_maximum.nc /p/1209884-aqueduct/Coastal_risk/reanalysis_runs_cyclone_extremes/model_input_BasinEP_HURD_2008204N13260_GENEVIEVE_Ibtracks_v03r06_maximum.nc /p/1209884-aqueduct/Coastal_risk/reanalysis_runs_cyclone_extremes/model_input_BasinNA_HURD_1985197N29296_ANA_Ibtracks_v03r06_maximum.nc /p/1209884-aqueduct/Coastal_risk/reanalysis_runs_cyclone_extremes/model_input_BasinNA_HURD_2009279N15311_HENRI_Ibtracks_v03r06_maximum.nc /p/1209884-aqueduct/Coastal_risk/reanalysis_runs_cyclone_extremes/model_input_BasinEP_HURD_1987159N12264_ADRIAN_Ibtracks_v03r06_maximum.nc\\nCreated by: $Id: tropical_fes_storm_max.py 236 2015-11-16 12:46:20Z winsemi $, $HeadURL: https://repos.deltares.nl/repos/global_tide_surge_model/trunk/python_scripts/tropical_fes_storm_max.py $\\nCreated by fes2netcdf program to generate timeseries from FES2012 database\\nCreated on 2015-07-25T00:37:01+0200, D-Flow FM\",\n",
      "        \"source\": \"Global Tide and Surge Model\",\n",
      "        \"institution\": \"Deltares\"\n",
      "    },\n",
      "    \"filename\": \"inuncoast_historical_nosub_hist_rp0001_5.nc\"\n",
      "}\n"
     ]
    }
   ],
   "source": [
    "print(json.dumps(sample, default = str, indent = 4)) ## pretty print using json"
   ]
  },
  {
   "cell_type": "code",
   "execution_count": 24,
   "metadata": {
    "ExecuteTime": {
     "end_time": "2021-05-07T05:10:08.035657Z",
     "start_time": "2021-05-07T05:10:08.024677Z"
    }
   },
   "outputs": [
    {
     "data": {
      "text/plain": [
       "dict_keys(['properties_from_filename', 'root', 'variable_attributes', 'global_attributes', 'filename'])"
      ]
     },
     "execution_count": 24,
     "metadata": {},
     "output_type": "execute_result"
    }
   ],
   "source": [
    "sample.keys() # keys, and their type can be seen from previous cell"
   ]
  },
  {
   "cell_type": "code",
   "execution_count": 38,
   "metadata": {
    "ExecuteTime": {
     "end_time": "2021-05-07T05:24:00.259405Z",
     "start_time": "2021-05-07T05:23:58.589799Z"
    }
   },
   "outputs": [
    {
     "name": "stdout",
     "output_type": "stream",
     "text": [
      "properties_from_filename <class 'dict'>\n",
      "root <class 'str'>\n",
      "variable_attributes <class 'dict'>\n",
      "global_attributes <class 'dict'>\n",
      "filename <class 'str'>\n",
      "properties_from_filename <class 'dict'>\n",
      "root <class 'str'>\n",
      "variable_attributes <class 'dict'>\n",
      "global_attributes <class 'dict'>\n",
      "filename <class 'str'>\n"
     ]
    }
   ],
   "source": [
    "for link in dataLinks[:5]: # also I have printed out the type, to check if the same type prevails\n",
    "    if \"pickle\" in link[\"href\"]:\n",
    "        curLink = link[\"href\"]\n",
    "        _json = pickle.load(urllib.request.urlopen(curLink))\n",
    "        \n",
    "        for key, value in _json.items():\n",
    "            print(key, type(value))"
   ]
  },
  {
   "cell_type": "code",
   "execution_count": 47,
   "metadata": {
    "ExecuteTime": {
     "end_time": "2021-05-07T05:31:53.534055Z",
     "start_time": "2021-05-07T05:31:53.515248Z"
    }
   },
   "outputs": [
    {
     "data": {
      "text/plain": [
       "1380"
      ]
     },
     "execution_count": 47,
     "metadata": {},
     "output_type": "execute_result"
    }
   ],
   "source": [
    "len(dataLinks) # pretty long data"
   ]
  },
  {
   "cell_type": "code",
   "execution_count": 49,
   "metadata": {
    "ExecuteTime": {
     "end_time": "2021-05-07T05:41:05.701053Z",
     "start_time": "2021-05-07T05:32:19.296079Z"
    }
   },
   "outputs": [
    {
     "name": "stderr",
     "output_type": "stream",
     "text": [
      "100%|██████████████████████████████████████████████████████████████████████████████████████████████████████████████████████████████████| 1380/1380 [08:46<00:00,  2.62it/s]\n"
     ]
    }
   ],
   "source": [
    "data = dict()\n",
    "for link in TQ(dataLinks):\n",
    "    if \"pickle\" in link[\"href\"]:\n",
    "        curLink = link[\"href\"]\n",
    "        _json = pickle.load(urllib.request.urlopen(curLink))\n",
    "        \n",
    "        for key, value in _json.items():\n",
    "            if key not in data.keys():\n",
    "                if type(value) == dict:\n",
    "                    data[key] = dict()\n",
    "                else: # consider type str\n",
    "                    data[key] = []\n",
    "            \n",
    "            # when the key is created - append new data\n",
    "            if type(value) == str:\n",
    "                data[key].append(value)\n",
    "            if type(value) == dict:\n",
    "                for k2, v2 in value.items():\n",
    "                    if k2 not in data[key].keys():\n",
    "                        data[key][k2] = []\n",
    "                        \n",
    "                    data[key][k2].append(v2)"
   ]
  },
  {
   "cell_type": "markdown",
   "metadata": {},
   "source": [
    "Code is working fine with `dataLinks[:5]` as seen below. So I have processed the whole data, and used `tqdm` to find the execution time - which is about **8:46** minutes."
   ]
  },
  {
   "cell_type": "code",
   "execution_count": 46,
   "metadata": {
    "ExecuteTime": {
     "end_time": "2021-05-07T05:31:28.696138Z",
     "start_time": "2021-05-07T05:31:28.678589Z"
    }
   },
   "outputs": [
    {
     "data": {
      "text/plain": [
       "{'properties_from_filename': {'subsidence': ['nosub', 'nosub'],\n",
       "  'returnperiod': ['rp0001', 'rp0002'],\n",
       "  'year': ['hist', 'hist'],\n",
       "  'climate': ['historical', 'historical'],\n",
       "  'returnperiod_decimal': ['5', '0'],\n",
       "  'floodtype': ['inuncoast', 'inuncoast']},\n",
       " 'root': ['/volumes/data/Y2018M08D08_RH_S3_EC2_V01/output_V02/coastal/inun_subsidence_v2_95/HIST',\n",
       "  '/volumes/data/Y2018M08D08_RH_S3_EC2_V01/output_V02/coastal/inun_subsidence_v2_95/HIST'],\n",
       " 'variable_attributes': {'inun_units': ['m', 'm'],\n",
       "  'inun_comment': ['water_surface_reference_datum_altitude is given in file /p/1209884-aqueduct/Datasets/MERIT_1km/MERIT_glob_1km_waterp50Mask.tif',\n",
       "   'water_surface_reference_datum_altitude is given in file /p/1209884-aqueduct/Datasets/MERIT_1km/MERIT_glob_1km_waterp50Mask.tif'],\n",
       "  'inun__FillValue': [-9999.0, -9999.0],\n",
       "  'inun_long_name': ['Coastal flooding', 'Coastal flooding'],\n",
       "  'inun_coordinates': ['lat lon', 'lat lon'],\n",
       "  'inun_standard_name': ['water_surface_height_above_reference_datum',\n",
       "   'water_surface_height_above_reference_datum']},\n",
       " 'global_attributes': {'title': ['Aqueduct Coastal hazard layer',\n",
       "   'Aqueduct Coastal hazard layer'],\n",
       "  'references': ['http://floods.wri.org/', 'http://floods.wri.org/'],\n",
       "  'project': ['Aqueduct Global Flood Analyzer',\n",
       "   'Aqueduct Global Flood Analyzer'],\n",
       "  'config_file': ['/p/1209884-aqueduct/Coastal_inun/settings_h6/coastal_inun.ini',\n",
       "   '/p/1209884-aqueduct/Coastal_inun/settings_h6/coastal_inun.ini'],\n",
       "  'Conventions': ['CF-1.6', 'CF-1.6'],\n",
       "  'history': ['Created by: $Id: coastal_inun.py 219 2017-11-13 11:12:22Z eilan_dk $,\\n                                            boundary conditions from /p/1209884-aqueduct/Coastal_inun/input/surge/evds_erainterim_IBTrACS_tide_surge.nc,\\nhistory: Created by: $Id: yearly_max2evs.py 234 2015-11-12 16:13:58Z winsemi $, $HeadURL: https://repos.deltares.nl/repos/global_tide_surge_model/trunk/python_scripts/yearly_max2evs.py $\\nMon Nov 23 13:38:02 2015: cdo yearmax /p/1209884-aqueduct/Coastal_risk/tropical_surge_all_max.nc /p/1209884-aqueduct/Coastal_risk/yearly_surge_max.nc\\nThu Nov 19 11:23:31 2015: cdo mergetime /p/1209884-aqueduct/Coastal_risk/tropical_surge_max_0000.nc /p/1209884-aqueduct/Coastal_risk/tropical_surge_max_0001.nc /p/1209884-aqueduct/Coastal_risk/tropical_surge_max_0002.nc /p/1209884-aqueduct/Coastal_risk/tropical_surge_max_0003.nc /p/1209884-aqueduct/Coastal_risk/tropical_surge_max_0004.nc /p/1209884-aqueduct/Coastal_risk/tropical_surge_max_0005.nc /p/1209884-aqueduct/Coastal_risk/tropical_surge_max_0006.nc /p/1209884-aqueduct/Coastal_risk/tropical_surge_max_0007.nc /p/1209884-aqueduct/Coastal_risk/tropical_surge_max_0008.nc /p/1209884-aqueduct/Coastal_risk/tropical_surge_max_0009.nc /p/1209884-aqueduct/Coastal_risk/tropical_surge_max_0010.nc /p/1209884-aqueduct/Coastal_risk/tropical_surge_max_0011.nc /p/1209884-aqueduct/Coastal_risk/tropical_surge_max_0012.nc /p/1209884-aqueduct/Coastal_risk/tropical_surge_max_0013.nc /p/1209884-aqueduct/Coastal_risk/tropical_surge_max_0014.nc /p/1209884-aqueduct/Coastal_risk/tropical_surge_max_0015.nc\\nThu Nov 19 11:23:27 2015: cdo mergetime /p/1209884-aqueduct/Coastal_risk/reanalysis_runs_cyclone_extremes/model_input_BasinEP_HURD_1998288N11268_LESTER_Ibtracks_v03r06_maximum.nc /p/1209884-aqueduct/Coastal_risk/reanalysis_runs_cyclone_extremes/model_input_BasinNA_HURD_2001227N13323_CHANTAL_Ibtracks_v03r06_maximum.nc /p/1209884-aqueduct/Coastal_risk/reanalysis_runs_cyclone_extremes/model_input_BasinNA_HURD_2002288N17277_UNNAMED_Ibtracks_v03r06_maximum.nc /p/1209884-aqueduct/Coastal_risk/reanalysis_runs_cyclone_extremes/model_input_BasinEP_HURD_2008204N13260_GENEVIEVE_Ibtracks_v03r06_maximum.nc /p/1209884-aqueduct/Coastal_risk/reanalysis_runs_cyclone_extremes/model_input_BasinNA_HURD_1985197N29296_ANA_Ibtracks_v03r06_maximum.nc /p/1209884-aqueduct/Coastal_risk/reanalysis_runs_cyclone_extremes/model_input_BasinNA_HURD_2009279N15311_HENRI_Ibtracks_v03r06_maximum.nc /p/1209884-aqueduct/Coastal_risk/reanalysis_runs_cyclone_extremes/model_input_BasinEP_HURD_1987159N12264_ADRIAN_Ibtracks_v03r06_maximum.nc\\nCreated by: $Id: tropical_fes_storm_max.py 236 2015-11-16 12:46:20Z winsemi $, $HeadURL: https://repos.deltares.nl/repos/global_tide_surge_model/trunk/python_scripts/tropical_fes_storm_max.py $\\nCreated by fes2netcdf program to generate timeseries from FES2012 database\\nCreated on 2015-07-25T00:37:01+0200, D-Flow FM',\n",
       "   'Created by: $Id: coastal_inun.py 219 2017-11-13 11:12:22Z eilan_dk $,\\n                                            boundary conditions from /p/1209884-aqueduct/Coastal_inun/input/surge/evds_erainterim_IBTrACS_tide_surge.nc,\\nhistory: Created by: $Id: yearly_max2evs.py 234 2015-11-12 16:13:58Z winsemi $, $HeadURL: https://repos.deltares.nl/repos/global_tide_surge_model/trunk/python_scripts/yearly_max2evs.py $\\nMon Nov 23 13:38:02 2015: cdo yearmax /p/1209884-aqueduct/Coastal_risk/tropical_surge_all_max.nc /p/1209884-aqueduct/Coastal_risk/yearly_surge_max.nc\\nThu Nov 19 11:23:31 2015: cdo mergetime /p/1209884-aqueduct/Coastal_risk/tropical_surge_max_0000.nc /p/1209884-aqueduct/Coastal_risk/tropical_surge_max_0001.nc /p/1209884-aqueduct/Coastal_risk/tropical_surge_max_0002.nc /p/1209884-aqueduct/Coastal_risk/tropical_surge_max_0003.nc /p/1209884-aqueduct/Coastal_risk/tropical_surge_max_0004.nc /p/1209884-aqueduct/Coastal_risk/tropical_surge_max_0005.nc /p/1209884-aqueduct/Coastal_risk/tropical_surge_max_0006.nc /p/1209884-aqueduct/Coastal_risk/tropical_surge_max_0007.nc /p/1209884-aqueduct/Coastal_risk/tropical_surge_max_0008.nc /p/1209884-aqueduct/Coastal_risk/tropical_surge_max_0009.nc /p/1209884-aqueduct/Coastal_risk/tropical_surge_max_0010.nc /p/1209884-aqueduct/Coastal_risk/tropical_surge_max_0011.nc /p/1209884-aqueduct/Coastal_risk/tropical_surge_max_0012.nc /p/1209884-aqueduct/Coastal_risk/tropical_surge_max_0013.nc /p/1209884-aqueduct/Coastal_risk/tropical_surge_max_0014.nc /p/1209884-aqueduct/Coastal_risk/tropical_surge_max_0015.nc\\nThu Nov 19 11:23:27 2015: cdo mergetime /p/1209884-aqueduct/Coastal_risk/reanalysis_runs_cyclone_extremes/model_input_BasinEP_HURD_1998288N11268_LESTER_Ibtracks_v03r06_maximum.nc /p/1209884-aqueduct/Coastal_risk/reanalysis_runs_cyclone_extremes/model_input_BasinNA_HURD_2001227N13323_CHANTAL_Ibtracks_v03r06_maximum.nc /p/1209884-aqueduct/Coastal_risk/reanalysis_runs_cyclone_extremes/model_input_BasinNA_HURD_2002288N17277_UNNAMED_Ibtracks_v03r06_maximum.nc /p/1209884-aqueduct/Coastal_risk/reanalysis_runs_cyclone_extremes/model_input_BasinEP_HURD_2008204N13260_GENEVIEVE_Ibtracks_v03r06_maximum.nc /p/1209884-aqueduct/Coastal_risk/reanalysis_runs_cyclone_extremes/model_input_BasinNA_HURD_1985197N29296_ANA_Ibtracks_v03r06_maximum.nc /p/1209884-aqueduct/Coastal_risk/reanalysis_runs_cyclone_extremes/model_input_BasinNA_HURD_2009279N15311_HENRI_Ibtracks_v03r06_maximum.nc /p/1209884-aqueduct/Coastal_risk/reanalysis_runs_cyclone_extremes/model_input_BasinEP_HURD_1987159N12264_ADRIAN_Ibtracks_v03r06_maximum.nc\\nCreated by: $Id: tropical_fes_storm_max.py 236 2015-11-16 12:46:20Z winsemi $, $HeadURL: https://repos.deltares.nl/repos/global_tide_surge_model/trunk/python_scripts/tropical_fes_storm_max.py $\\nCreated by fes2netcdf program to generate timeseries from FES2012 database\\nCreated on 2015-07-25T00:37:01+0200, D-Flow FM'],\n",
       "  'source': ['Global Tide and Surge Model', 'Global Tide and Surge Model'],\n",
       "  'institution': ['Deltares', 'Deltares']},\n",
       " 'filename': ['inuncoast_historical_nosub_hist_rp0001_5.nc',\n",
       "  'inuncoast_historical_nosub_hist_rp0002_0.nc']}"
      ]
     },
     "execution_count": 46,
     "metadata": {},
     "output_type": "execute_result"
    }
   ],
   "source": [
    "# data"
   ]
  }
 ],
 "metadata": {
  "kernelspec": {
   "display_name": "Python 3",
   "language": "python",
   "name": "python3"
  },
  "language_info": {
   "codemirror_mode": {
    "name": "ipython",
    "version": 3
   },
   "file_extension": ".py",
   "mimetype": "text/x-python",
   "name": "python",
   "nbconvert_exporter": "python",
   "pygments_lexer": "ipython3",
   "version": "3.8.3"
  },
  "latex_envs": {
   "LaTeX_envs_menu_present": true,
   "autoclose": false,
   "autocomplete": true,
   "bibliofile": "biblio.bib",
   "cite_by": "apalike",
   "current_citInitial": 1,
   "eqLabelWithNumbers": true,
   "eqNumInitial": 1,
   "hotkeys": {
    "equation": "Ctrl-E",
    "itemize": "Ctrl-I"
   },
   "labels_anchors": false,
   "latex_user_defs": false,
   "report_style_numbering": false,
   "user_envs_cfg": false
  },
  "toc": {
   "base_numbering": 1,
   "nav_menu": {},
   "number_sections": false,
   "sideBar": true,
   "skip_h1_title": true,
   "title_cell": "Table of Contents",
   "title_sidebar": "Contents",
   "toc_cell": false,
   "toc_position": {},
   "toc_section_display": true,
   "toc_window_display": false
  },
  "varInspector": {
   "cols": {
    "lenName": 16,
    "lenType": 16,
    "lenVar": 40
   },
   "kernels_config": {
    "python": {
     "delete_cmd_postfix": "",
     "delete_cmd_prefix": "del ",
     "library": "var_list.py",
     "varRefreshCmd": "print(var_dic_list())"
    },
    "r": {
     "delete_cmd_postfix": ") ",
     "delete_cmd_prefix": "rm(",
     "library": "var_list.r",
     "varRefreshCmd": "cat(var_dic_list()) "
    }
   },
   "types_to_exclude": [
    "module",
    "function",
    "builtin_function_or_method",
    "instance",
    "_Feature"
   ],
   "window_display": false
  }
 },
 "nbformat": 4,
 "nbformat_minor": 4
}
